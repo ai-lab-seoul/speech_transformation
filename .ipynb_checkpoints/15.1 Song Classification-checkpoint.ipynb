{
 "cells": [
  {
   "cell_type": "code",
   "execution_count": null,
   "metadata": {},
   "outputs": [],
   "source": [
    "%matplotlib inline\n",
    "import matplotlib.pyplot as plt\n",
    "plt.rcParams[\"figure.figsize\"] = (12, 8)\n",
    " \n",
    "import gc\n",
    "import os\n",
    "import ast\n",
    "import sys\n",
    "import configparser\n",
    "import glob\n",
    "import librosa\n",
    "import librosa.display\n",
    "from scipy.stats import mode\n",
    "\n",
    "from keras.models import Sequential\n",
    "from keras.models import Model\n",
    "from keras.layers import Input, LSTM\n",
    "from keras.layers import Dense\n",
    "from keras.layers import Dropout\n",
    "from keras.layers import Flatten\n",
    "from keras.layers import Activation\n",
    "from keras.layers.merge import concatenate\n",
    "from keras.layers.convolutional import Conv1D\n",
    "from keras.layers.pooling import MaxPooling1D\n",
    "from keras.layers.pooling import GlobalMaxPooling1D\n",
    "from keras.layers.pooling import GlobalAveragePooling1D\n",
    "from keras.layers.normalization import BatchNormalization\n",
    "from keras.layers.advanced_activations import LeakyReLU\n",
    "\n",
    "import numpy as np\n",
    "from sklearn.metrics import confusion_matrix\n",
    "from sklearn.model_selection import train_test_split\n",
    "from sklearn.metrics import accuracy_score\n",
    "import keras\n",
    "from keras import backend as K"
   ]
  },
  {
   "cell_type": "markdown",
   "metadata": {},
   "source": [
    "## (1) Load songs and transfrom them into MEL-Spectrogram"
   ]
  },
  {
   "cell_type": "code",
   "execution_count": null,
   "metadata": {},
   "outputs": [],
   "source": [
    "def load_songs(song_folder):\n",
    "    song_specs = []\n",
    "    idx_to_genre = []\n",
    "    genre_to_idx = {}\n",
    "    genres = []    \n",
    "    for genre in os.listdir(song_folder):\n",
    "        genre_to_idx[genre] = len(genre_to_idx)\n",
    "        idx_to_genre.append(genre)\n",
    "        genre_folder = os.path.join(song_folder, genre)\n",
    "        for song in os.listdir(genre_folder):\n",
    "            if song.endswith('.wav'):\n",
    "                signal, sr = librosa.load(os.path.join(genre_folder, song))\n",
    "                melspec = librosa.feature.melspectrogram(signal, sr=sr).T[:1280,]\n",
    "                song_specs.append(melspec)\n",
    "                genres.append(genre_to_idx[genre])\n",
    "                \n",
    "    return song_specs, genres, genre_to_idx, idx_to_genre\n",
    "\n",
    "song_specs, genres, genre_to_idx, idx_to_genre = load_songs('C:/Users/wanke/Study_sound/proj02_Sound/speech_transformation/song_folder/genres')\n",
    "song_specs[0].shape"
   ]
  },
  {
   "cell_type": "code",
   "execution_count": null,
   "metadata": {},
   "outputs": [],
   "source": [
    "librosa.display.specshow(librosa.power_to_db(song_specs[1].T,\n",
    "                                              ref=np.max),\n",
    "                          y_axis='mel', fmax=8000,\n",
    "                          x_axis='time')"
   ]
  },
  {
   "cell_type": "code",
   "execution_count": null,
   "metadata": {},
   "outputs": [],
   "source": [
    "def show_spectogram(show_genre):\n",
    "    '''\n",
    "    genre 이름을 넣으면 genre에 해당하는 spectogram을 볼 수 있음 \n",
    "    :param show_genre: 사용자가 보려는 장르의 이름 \n",
    "    :return: \n",
    "    '''\n",
    "    show_genre = genre_to_idx[show_genre]\n",
    "    # genre_to_idx dictionary를 통해 genre에 해당하는 index 얻기\n",
    "    specs = []\n",
    "    for spec, genre in zip(song_specs, genres):\n",
    "        # song 의 melspec 정보를 가진 리스트인 song_specs와 genre 정보를 가진 리스트인 genres를 zip 한다\n",
    "        # 그럼으로써 iteration을 돌 때 spec, genre에 각각 song 정보와 genre 정보가 assign 된다.\n",
    "        \n",
    "        if show_genre == genre:\n",
    "            # song_specs, genres에는 모든 song에 대한 정보가 담겨 있으므로\n",
    "            # 사용자가 보려는 장르만 보기 위해 if 문 사용\n",
    "            specs.append(spec)\n",
    "            # 장르에 해당하는 melspec 값을 리스트에 할당\n",
    "            if len(specs) == 25:\n",
    "                break\n",
    "            # 리스트의 길이가 25개 일경우 for문 빠져나가기\n",
    "    if not specs:\n",
    "        # 사용자가 보고 싶어하는 장르가 song에 존재하지 않으면 specs이 비어 있을 테고,\n",
    "        # 해당 장르를 찾지 못했으므로 not found 반환\n",
    "        return 'not found!'\n",
    "    x = np.concatenate(specs, axis=1)\n",
    "    # specs내에 위치한 값들을 axis=1 축으로 이어 붙인다.\n",
    "    x = (x - x.min()) / (x.max() - x.min())\n",
    "    # normalisation\n",
    "    plt.imshow((x * 20).clip(0, 1.0))\n",
    "    # normalisation\n",
    "    \n",
    "show_spectogram('classical')"
   ]
  },
  {
   "cell_type": "code",
   "execution_count": null,
   "metadata": {},
   "outputs": [],
   "source": [
    "show_spectogram('metal')"
   ]
  },
  {
   "cell_type": "code",
   "execution_count": null,
   "metadata": {},
   "outputs": [],
   "source": [
    "def lstm_model(input_shape):\n",
    "    inputs = Input(shape=input_shape, name='input')\n",
    "    lstm_1 = LSTM(units=128, return_sequences=False)(inputs)\n",
    "    \n",
    "    dense2 = Dense(10, activation='softmax')(lstm_1)\n",
    "\n",
    "    model = Model(inputs=[inputs], outputs=[dense2])\n",
    "    sgd = keras.optimizers.SGD(lr=0.0003, momentum=0.9, decay=1e-5, nesterov=True)\n",
    "    model.compile(loss=keras.losses.categorical_crossentropy,\n",
    "                  optimizer=sgd,\n",
    "                  metrics=['accuracy'])\n",
    "    return model\n",
    "\n",
    "def cnn_model(input_shape):\n",
    "    inputs = Input(input_shape)\n",
    "    x = inputs\n",
    "    levels = 64\n",
    "    \n",
    "    for level in range(3):\n",
    "        x = Conv1D(levels, 3, activation='relu')(x)\n",
    "        x = BatchNormalization()(x)\n",
    "        x = MaxPooling1D(pool_size=2, strides=2)(x)\n",
    "        levels *= 2\n",
    "    \n",
    "    # Global Layers\n",
    "    x = GlobalMaxPooling1D()(x)\n",
    "\n",
    "    for fc in range(2):\n",
    "        x = Dense(256, activation='relu')(x)\n",
    "        x = Dropout(0.5)(x)\n",
    "\n",
    "    labels = Dense(10, activation='softmax')(x)\n",
    "\n",
    "    model = Model(inputs=[inputs], outputs=[labels])\n",
    "    sgd = keras.optimizers.SGD(lr=0.0003, momentum=0.9, decay=1e-5, nesterov=True)\n",
    "    model.compile(loss='categorical_crossentropy',\n",
    "                  optimizer=sgd,\n",
    "                  metrics=['accuracy'])\n",
    "    return model\n",
    "\n",
    "model = cnn_model((128, 128))\n",
    "model.summary()"
   ]
  },
  {
   "cell_type": "code",
   "execution_count": null,
   "metadata": {},
   "outputs": [],
   "source": [
    "def split_10(x, y):\n",
    "    s = x.shape\n",
    "    s = (s[0] * 10, s[1] // 10, s[2])\n",
    "    return x.reshape(s), np.repeat(y, 10, axis=0)\n",
    "\n",
    "\n",
    "genres_one_hot = keras.utils.to_categorical(genres, num_classes=len(genre_to_idx))\n",
    "\n",
    "x_train, x_test, y_train, y_test = train_test_split(\n",
    "    np.array(song_specs), np.array(genres_one_hot), \n",
    "    test_size=0.1, stratify=genres)\n",
    "\n",
    "x_test, y_test = split_10(x_test, y_test)\n",
    "x_train, y_train = split_10(x_train, y_train)\n",
    "\n",
    "x_train.shape, y_train.shape"
   ]
  },
  {
   "cell_type": "code",
   "execution_count": null,
   "metadata": {},
   "outputs": [],
   "source": [
    "earlystop = keras.callbacks.EarlyStopping(monitor='val_loss',\n",
    "      min_delta=0,\n",
    "      patience=3,\n",
    "      verbose=0,\n",
    "      mode='auto')\n",
    "\n",
    "    # Fit the model\n",
    "history = model.fit(x_train, y_train,\n",
    "      batch_size=128,\n",
    "      epochs=100,\n",
    "      verbose=1,\n",
    "      validation_data=(x_test, y_test),\n",
    "      callbacks = [earlystop])"
   ]
  },
  {
   "cell_type": "code",
   "execution_count": null,
   "metadata": {},
   "outputs": [],
   "source": [
    "model.save('zoo/15/song_classify.h5')"
   ]
  },
  {
   "cell_type": "code",
   "execution_count": null,
   "metadata": {},
   "outputs": [],
   "source": [
    "def unsplit(values):\n",
    "    chunks = np.split(values, 100)\n",
    "    return np.array([np.argmax(chunk) % 10 for chunk in chunks])\n",
    "\n",
    "pred_values = model.predict(x_test)\n",
    "predictions = unsplit(pred_values)\n",
    "truth = unsplit(y_test)\n",
    "accuracy_score(predictions, truth)"
   ]
  },
  {
   "cell_type": "code",
   "execution_count": null,
   "metadata": {},
   "outputs": [],
   "source": [
    "cm = confusion_matrix(np.argmax(pred_values, axis=1), np.argmax(y_test, axis=1))\n",
    "print(cm)"
   ]
  },
  {
   "cell_type": "code",
   "execution_count": null,
   "metadata": {
    "scrolled": true
   },
   "outputs": [],
   "source": [
    "plt.imshow(cm.T, interpolation='nearest', cmap='gray')\n",
    "plt.xticks(np.arange(0, len(idx_to_genre)), idx_to_genre)\n",
    "plt.yticks(np.arange(0, len(idx_to_genre)), idx_to_genre)\n",
    "\n",
    "plt.show()"
   ]
  },
  {
   "cell_type": "code",
   "execution_count": null,
   "metadata": {},
   "outputs": [],
   "source": [
    "m1 = cnn_melspect_1D_org((128, 128))\n",
    "m2 = cnn_melspect_1D((128, 128))\n",
    "ac1 = 0.61 * 5\n",
    "ac2 = 0\n",
    "for i in range(5):\n",
    "    history = m1.fit(x_train, y_train,\n",
    "      batch_size=128,\n",
    "      epochs=100,\n",
    "      verbose=0,\n",
    "      validation_data=(x_test, y_test),\n",
    "      callbacks = [earlystop])\n",
    "    ac1 += history.history['val_acc'][-1]\n",
    "    history = m2.fit(x_train, y_train,\n",
    "      batch_size=128,\n",
    "      epochs=100,\n",
    "      verbose=0,\n",
    "      validation_data=(x_test, y_test),\n",
    "      callbacks = [earlystop])\n",
    "    ac2 += history.history['val_acc'][-1]\n",
    "\n",
    "print(ac1 / 5, ac2 / 5)"
   ]
  },
  {
   "cell_type": "code",
   "execution_count": null,
   "metadata": {},
   "outputs": [],
   "source": []
  }
 ],
 "metadata": {
  "kernelspec": {
   "display_name": "Python 3",
   "language": "python",
   "name": "python3"
  },
  "language_info": {
   "codemirror_mode": {
    "name": "ipython",
    "version": 3
   },
   "file_extension": ".py",
   "mimetype": "text/x-python",
   "name": "python",
   "nbconvert_exporter": "python",
   "pygments_lexer": "ipython3",
   "version": "3.6.6"
  }
 },
 "nbformat": 4,
 "nbformat_minor": 2
}
